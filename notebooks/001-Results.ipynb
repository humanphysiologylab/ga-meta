{
 "cells": [
  {
   "cell_type": "code",
   "execution_count": 1,
   "id": "3e3d7016-52a4-4352-8c3b-cc84e1c50fad",
   "metadata": {},
   "outputs": [],
   "source": [
    "import os\n",
    "import pickle\n",
    "\n",
    "import numpy as np\n",
    "import pandas as pd\n",
    "\n",
    "import matplotlib.pyplot as plt"
   ]
  },
  {
   "cell_type": "code",
   "execution_count": 2,
   "id": "bf8ccc7e-8bb9-4001-8d80-2f8f3ecff2b5",
   "metadata": {},
   "outputs": [],
   "source": [
    "def collect_results(case, dirname_results, dump_keys=None, voigt=False):\n",
    "\n",
    "    if voigt:\n",
    "        group, cell, suffix = case.split(\"/\")\n",
    "        group, cell = int(group[-1]), int(cell[-1])\n",
    "    else:\n",
    "        group, cell, suffix = None, None, case\n",
    "\n",
    "    config_path = os.path.join(dirname_results, case)\n",
    "    with open(os.path.join(config_path, \"config_backup.pickle\"), \"rb\") as f:\n",
    "        config = pickle.load(f)\n",
    "\n",
    "    m_index = config[\"runtime\"][\"m_index\"]\n",
    "\n",
    "    # n_genes = len(m_index)\n",
    "    # n_organisms = config['runtime']['n_organisms']\n",
    "\n",
    "    if dump_keys is None:\n",
    "        dump_keys = [\"dump\", \"best\"]\n",
    "\n",
    "    dump = {}\n",
    "    for folder in dump_keys:\n",
    "        dump[folder] = {}\n",
    "        for key in \"genes\", \"state\", \"status\", \"loss\":\n",
    "            filename = os.path.join(config_path, folder, key)\n",
    "            if os.path.isfile(filename):\n",
    "                dump[folder][key] = np.fromfile(filename)\n",
    "\n",
    "    filename = os.path.join(config_path, \"sol_best.csv\")\n",
    "    if os.path.isfile(filename):\n",
    "        sol_best = pd.read_csv(filename, index_col=[0, 1]).iloc[:, -1]\n",
    "    else:\n",
    "        sol_best = None\n",
    "\n",
    "    phenotype_best = {}\n",
    "\n",
    "    for exp_cond_name in config[\"experimental_conditions\"]:\n",
    "\n",
    "        if exp_cond_name == \"common\":\n",
    "            continue\n",
    "\n",
    "        filename = os.path.join(\n",
    "            config_path, \"phenotype\", f\"phenotype_{exp_cond_name}.csv\"\n",
    "        )\n",
    "        if os.path.isfile(filename):\n",
    "            try:\n",
    "                phenotype_best[exp_cond_name] = pd.read_csv(filename)\n",
    "            except pd.errors.EmptyDataError as e:\n",
    "                print(f\"{filename} is empty\")\n",
    "                continue\n",
    "\n",
    "    filename = os.path.join(config_path, \"state_best.csv\")\n",
    "    state_best = pd.read_csv(filename, index_col=0)\n",
    "\n",
    "    results = dict(\n",
    "        trio=(group, cell, suffix),\n",
    "        config=config,\n",
    "        dump=dump,\n",
    "        sol_best=sol_best,\n",
    "        phenotype_best=phenotype_best,\n",
    "        state_best=state_best,\n",
    "    )\n",
    "\n",
    "    return results"
   ]
  },
  {
   "cell_type": "code",
   "execution_count": 3,
   "id": "6c850b84-40fc-4a1f-8d78-f80615c2b826",
   "metadata": {},
   "outputs": [
    {
     "data": {
      "text/plain": [
       "dict_keys(['trio', 'config', 'dump', 'sol_best', 'phenotype_best', 'state_best'])"
      ]
     },
     "execution_count": 3,
     "metadata": {},
     "output_type": "execute_result"
    }
   ],
   "source": [
    "dirname_results = \"Путь до mpi_scripts/results/\"\n",
    "case = \"Номер расчета, например: 220427_110659\"\n",
    "\n",
    "results = collect_results(case, dirname_results, dump_keys=[\"best\", \"dump\"])\n",
    "results.keys()"
   ]
  },
  {
   "cell_type": "code",
   "execution_count": 4,
   "id": "7ea2ea83-f20b-4355-8ca7-d8f09285ce6c",
   "metadata": {},
   "outputs": [],
   "source": [
    "config = results[\"config\"]\n",
    "\n",
    "m_index = config[\"runtime\"][\"m_index\"]"
   ]
  },
  {
   "cell_type": "code",
   "execution_count": 5,
   "id": "926737f6-0cc4-4fad-969b-41455ecc117c",
   "metadata": {},
   "outputs": [
    {
     "data": {
      "text/plain": [
       "ec_name  g_name\n",
       "common   P_Na        0.944054\n",
       "         g_K1        0.707945\n",
       "1000     Na_i        8.086342\n",
       "         K_i       130.300659\n",
       "500      Na_i        8.686210\n",
       "         K_i       131.620802\n",
       "Name: 0, dtype: float64"
      ]
     },
     "execution_count": 5,
     "metadata": {},
     "output_type": "execute_result"
    }
   ],
   "source": [
    "results[\"sol_best\"]"
   ]
  },
  {
   "cell_type": "code",
   "execution_count": 6,
   "id": "1567e9fb-a4dc-4da0-bde0-303e14443948",
   "metadata": {},
   "outputs": [],
   "source": [
    "dump_best_genes = pd.DataFrame(\n",
    "    results[\"dump\"][\"best\"][\"genes\"].reshape(-1, len(m_index)),\n",
    "    columns=m_index\n",
    ")\n",
    "\n",
    "dump_best_loss = pd.Series(\n",
    "    results[\"dump\"][\"best\"][\"loss\"],\n",
    ")"
   ]
  },
  {
   "cell_type": "code",
   "execution_count": 7,
   "id": "36b12fdd-42bf-4972-83a6-759f532c1a7f",
   "metadata": {},
   "outputs": [
    {
     "data": {
      "text/html": [
       "<div>\n",
       "<style scoped>\n",
       "    .dataframe tbody tr th:only-of-type {\n",
       "        vertical-align: middle;\n",
       "    }\n",
       "\n",
       "    .dataframe tbody tr th {\n",
       "        vertical-align: top;\n",
       "    }\n",
       "\n",
       "    .dataframe thead tr th {\n",
       "        text-align: left;\n",
       "    }\n",
       "</style>\n",
       "<table border=\"1\" class=\"dataframe\">\n",
       "  <thead>\n",
       "    <tr>\n",
       "      <th>ec_name</th>\n",
       "      <th colspan=\"2\" halign=\"left\">common</th>\n",
       "      <th colspan=\"2\" halign=\"left\">1000</th>\n",
       "      <th colspan=\"2\" halign=\"left\">500</th>\n",
       "    </tr>\n",
       "    <tr>\n",
       "      <th>g_name</th>\n",
       "      <th>P_Na</th>\n",
       "      <th>g_K1</th>\n",
       "      <th>Na_i</th>\n",
       "      <th>K_i</th>\n",
       "      <th>Na_i</th>\n",
       "      <th>K_i</th>\n",
       "    </tr>\n",
       "  </thead>\n",
       "  <tbody>\n",
       "    <tr>\n",
       "      <th>0</th>\n",
       "      <td>0.963916</td>\n",
       "      <td>0.723945</td>\n",
       "      <td>8.271842</td>\n",
       "      <td>131.295175</td>\n",
       "      <td>9.332078</td>\n",
       "      <td>101.355641</td>\n",
       "    </tr>\n",
       "    <tr>\n",
       "      <th>1</th>\n",
       "      <td>0.963916</td>\n",
       "      <td>0.723945</td>\n",
       "      <td>8.225878</td>\n",
       "      <td>131.346839</td>\n",
       "      <td>9.279121</td>\n",
       "      <td>101.405465</td>\n",
       "    </tr>\n",
       "    <tr>\n",
       "      <th>2</th>\n",
       "      <td>1.472220</td>\n",
       "      <td>0.569920</td>\n",
       "      <td>10.044630</td>\n",
       "      <td>131.539728</td>\n",
       "      <td>10.812557</td>\n",
       "      <td>128.129793</td>\n",
       "    </tr>\n",
       "    <tr>\n",
       "      <th>3</th>\n",
       "      <td>1.590318</td>\n",
       "      <td>0.623589</td>\n",
       "      <td>10.063320</td>\n",
       "      <td>122.854020</td>\n",
       "      <td>12.078740</td>\n",
       "      <td>110.558151</td>\n",
       "    </tr>\n",
       "    <tr>\n",
       "      <th>4</th>\n",
       "      <td>0.944054</td>\n",
       "      <td>0.707945</td>\n",
       "      <td>8.086342</td>\n",
       "      <td>130.300659</td>\n",
       "      <td>8.686210</td>\n",
       "      <td>131.620802</td>\n",
       "    </tr>\n",
       "  </tbody>\n",
       "</table>\n",
       "</div>"
      ],
      "text/plain": [
       "ec_name    common                 1000                    500            \n",
       "g_name       P_Na      g_K1       Na_i         K_i       Na_i         K_i\n",
       "0        0.963916  0.723945   8.271842  131.295175   9.332078  101.355641\n",
       "1        0.963916  0.723945   8.225878  131.346839   9.279121  101.405465\n",
       "2        1.472220  0.569920  10.044630  131.539728  10.812557  128.129793\n",
       "3        1.590318  0.623589  10.063320  122.854020  12.078740  110.558151\n",
       "4        0.944054  0.707945   8.086342  130.300659   8.686210  131.620802"
      ]
     },
     "execution_count": 7,
     "metadata": {},
     "output_type": "execute_result"
    }
   ],
   "source": [
    "dump_best_genes"
   ]
  },
  {
   "cell_type": "code",
   "execution_count": 8,
   "id": "65cc9e6c-b31c-41d8-979c-8bd7fe2735c1",
   "metadata": {},
   "outputs": [
    {
     "data": {
      "text/plain": [
       "0    26.296982\n",
       "1    25.540216\n",
       "2    26.287642\n",
       "3    31.313943\n",
       "4    30.753967\n",
       "dtype: float64"
      ]
     },
     "execution_count": 8,
     "metadata": {},
     "output_type": "execute_result"
    }
   ],
   "source": [
    "dump_best_loss"
   ]
  },
  {
   "cell_type": "code",
   "execution_count": null,
   "id": "896ebbbf-338a-43e6-91ed-00859d73d455",
   "metadata": {},
   "outputs": [],
   "source": []
  }
 ],
 "metadata": {
  "kernelspec": {
   "display_name": "sci-base",
   "language": "python",
   "name": "sci-base"
  },
  "language_info": {
   "codemirror_mode": {
    "name": "ipython",
    "version": 3
   },
   "file_extension": ".py",
   "mimetype": "text/x-python",
   "name": "python",
   "nbconvert_exporter": "python",
   "pygments_lexer": "ipython3",
   "version": "3.10.2"
  }
 },
 "nbformat": 4,
 "nbformat_minor": 5
}
